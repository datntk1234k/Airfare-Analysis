{
 "cells": [
  {
   "cell_type": "markdown",
   "id": "9617d12d",
   "metadata": {},
   "source": [
    "#### Gộp Vietnam Airlines và Vietjet Air và Gộp 3 hãng thành 1 \n"
   ]
  },
  {
   "cell_type": "code",
   "execution_count": 2,
   "id": "42abb91e",
   "metadata": {},
   "outputs": [
    {
     "name": "stdout",
     "output_type": "stream",
     "text": [
      "Tổng số dòng sau khi gộp: 2255788\n",
      "                     source.name        date    route                        flight_id origin destination fare_class fare_code     price_vnd          taxes departure_time arrival_time booking_class  \\\n",
      "0  DLI-DAD_01-06-25_31-12-25.csv  2025-06-13  DLI_DAD  SEG-VJ568-DLIDAD-2025-1-01-1450    DLI         DAD        EL1   QPXVNWS  1.860040e+06  572426.357322            NaN          NaN             Z   \n",
      "1  DLI-DAD_01-06-25_31-12-25.csv  2025-06-13  DLI_DAD  SEG-VJ886-DLIDAD-2025-1-01-1450    DLI         DAD        EC1     ZVNWP  1.929579e+06  577492.077298            NaN          NaN             Z   \n",
      "2  DLI-DAD_01-06-25_31-12-25.csv  2025-06-13  DLI_DAD  SEG-VJ430-DLIDAD-2025-1-01-1450    DLI         DAD        EF1     ZVNWP  2.148786e+06  594070.797220            NaN          NaN             Z   \n",
      "3  DLI-DAD_01-06-25_31-12-25.csv  2025-06-13  DLI_DAD  SEG-VJ180-DLIDAD-2025-1-01-1450    DLI         DAD        DC1     ZVNWP  2.222009e+06  599136.517197            NaN          NaN             Z   \n",
      "4  DLI-DAD_01-06-25_31-12-25.csv  2025-06-13  DLI_DAD  SEG-VJ376-DLIDAD-2025-1-01-1450    DLI         DAD        DF1     ZVNWP  2.470690e+06  617557.317110            NaN          NaN             Z   \n",
      "5  DLI-DAD_01-06-25_31-12-25.csv  2025-06-13  DLI_DAD  SEG-VJ256-DLIDAD-2025-1-01-1450    DLI         DAD        BC1     IVNWP  3.104365e+06  664530.356891            NaN          NaN             I   \n",
      "6  DLI-DAD_01-06-25_31-12-25.csv  2025-06-13  DLI_DAD  SEG-VJ465-DLIDAD-2025-1-01-1450    DLI         DAD        BF1     CVNWP  3.800672e+06  716108.596649            NaN          NaN             C   \n",
      "7  DLI-DAD_01-06-25_31-12-25.csv  2025-06-13  DLI_DAD  SEG-VJ966-DLIDAD-2025-1-01-1450    DLI         DAD        EL1     CVNWP  2.467466e+06  617557.317110            NaN          NaN             T   \n",
      "8  DLI-DAD_01-06-25_31-12-25.csv  2025-06-13  DLI_DAD  SEG-VJ874-DLIDAD-2025-1-01-1450    DLI         DAD        EC1     CVNWP  2.706476e+06  635057.077029            NaN          NaN             L   \n",
      "9  DLI-DAD_01-06-25_31-12-25.csv  2025-06-13  DLI_DAD  SEG-VJ006-DLIDAD-2025-1-01-1450    DLI         DAD        EF1     CVNWP  2.822527e+06  643806.956988            NaN          NaN             M   \n",
      "\n",
      "        cabin  quota status service_code    fare_conditions operating_airline_code operating_airline_name  \n",
      "0  ecoPremium    2.0     HK  FBA4-C0FMC2  PEN19,PEN20,PEN21                     VJ            Vietjet Air  \n",
      "1  ecoPremium    2.0     HK  FBA4-C0FMC2  PEN16,PEN17,PEN18                     VJ            Vietjet Air  \n",
      "2  ecoPremium    2.0     HK  FBA4-C0FMC2  PEN22,PEN23,PEN24                     VJ            Vietjet Air  \n",
      "3  ecoPremium    2.0     HK  FBA4-C0FMC2  PEN28,PEN29,PEN30                     VJ            Vietjet Air  \n",
      "4  ecoPremium    2.0     HK  FBA4-C0FMC2  PEN22,PEN23,PEN24                     VJ            Vietjet Air  \n",
      "5    business    8.0     HK  FBA4-C0FMC2  PEN43,PEN44,PEN45                     VJ            Vietjet Air  \n",
      "6    business    9.0     HK  FBA4-C0FMC2  PEN52,PEN53,PEN54                     VJ            Vietjet Air  \n",
      "7         eco    9.0     HK  FBA3-C0GOC1  PEN31,PEN32,PEN33                     VJ            Vietjet Air  \n",
      "8         eco    9.0     HK  FBA3-C0GOC1  PEN13,PEN14,PEN15                     VJ            Vietjet Air  \n",
      "9         eco    9.0     HK  FBA3-C0GOC1  PEN34,PEN35,PEN36                     VJ            Vietjet Air  \n"
     ]
    }
   ],
   "source": [
    "import pandas as pd\n",
    "import os\n",
    "\n",
    "# Cài đặt hiển thị đẹp\n",
    "pd.set_option('display.max_columns', None)\n",
    "pd.set_option('display.width', 200)\n",
    "pd.set_option('display.max_colwidth', None)\n",
    "\n",
    "# Đường dẫn thư mục chứa file\n",
    "RAW_PATH = \"D:\\\\E\\\\raw_data\"\n",
    "\n",
    "def load_and_prepare(files, drop_airline=False, drop_is_duplicate=False):\n",
    "    dfs = []\n",
    "    for file in files:\n",
    "        df = pd.read_csv(os.path.join(RAW_PATH, file))\n",
    "        df.columns = df.columns.str.strip().str.lower().str.replace(\" \", \"_\")\n",
    "        \n",
    "        if drop_airline and \"airline\" in df.columns:\n",
    "            df.drop(columns=\"airline\", inplace=True)\n",
    "        if drop_is_duplicate and \"is_duplicate\" in df.columns:\n",
    "            df.drop(columns=\"is_duplicate\", inplace=True)\n",
    "        \n",
    "        dfs.append(df)\n",
    "    return pd.concat(dfs, ignore_index=True)\n",
    "\n",
    "# 1. Vietjet: xoá airline & is_duplicate\n",
    "df_vietjet = load_and_prepare([\"vietjet_1.csv\", \"vietjet_2.csv\"],\n",
    "                              drop_airline=True, drop_is_duplicate=True)\n",
    "\n",
    "# 2. Vietnam Airlines: xoá airline\n",
    "df_vnairlines = load_and_prepare([\"VNairlines_1_1.csv\", \"VNairlines_2_2.csv\"],\n",
    "                                 drop_airline=True)\n",
    "\n",
    "# 3. Bamboo: giữ nguyên hoàn toàn\n",
    "df_bamboo = load_and_prepare([\"BambooAirway.csv\"])\n",
    "\n",
    "# Gộp tất cả\n",
    "df_all = pd.concat([df_vietjet, df_vnairlines, df_bamboo], ignore_index=True)\n",
    "\n",
    "# Xem kết quả\n",
    "print(\"Tổng số dòng sau khi gộp:\", len(df_all))\n",
    "print(df_all.head(10))\n"
   ]
  },
  {
   "cell_type": "code",
   "execution_count": 3,
   "id": "32c8c991",
   "metadata": {},
   "outputs": [
    {
     "name": "stdout",
     "output_type": "stream",
     "text": [
      "Số lượng hãng bay duy nhất trong 'operating_airline_name': 3\n",
      "🛫 Danh sách các hãng bay:\n",
      "['Vietjet Air' 'VietNam Airlines' 'BAMBOO AIRWAYS']\n"
     ]
    }
   ],
   "source": [
    "# Kiểm tra có bao nhiêu hãng bay \n",
    "unique_airlines = df_all['operating_airline_name'].dropna().unique()\n",
    "print(\"Số lượng hãng bay duy nhất trong 'operating_airline_name':\", len(unique_airlines))\n",
    "print(\"🛫 Danh sách các hãng bay:\")\n",
    "print(unique_airlines)\n"
   ]
  },
  {
   "cell_type": "markdown",
   "id": "fef2be6a",
   "metadata": {},
   "source": [
    "### Lọc giữ lại các cột cần thiết "
   ]
  },
  {
   "cell_type": "code",
   "execution_count": 4,
   "id": "05db1619",
   "metadata": {},
   "outputs": [
    {
     "name": "stdout",
     "output_type": "stream",
     "text": [
      "Đã xóa các cột: source.name, departure_time, arrival_time, status khỏi df_all.\n"
     ]
    }
   ],
   "source": [
    "df_all.drop(columns=['source.name', 'departure_time', 'arrival_time', 'status'], inplace=True)\n",
    "print(\"Đã xóa các cột: source.name, departure_time, arrival_time, status khỏi df_all.\")\n"
   ]
  },
  {
   "cell_type": "code",
   "execution_count": 6,
   "id": "575b8092",
   "metadata": {},
   "outputs": [
    {
     "name": "stdout",
     "output_type": "stream",
     "text": [
      "🧾 Các cột hiện có trong df_all:\n",
      "['date', 'route', 'flight_id', 'origin', 'destination', 'fare_class', 'fare_code', 'price_vnd', 'taxes', 'booking_class', 'cabin', 'quota', 'service_code', 'fare_conditions', 'operating_airline_code', 'operating_airline_name']\n"
     ]
    }
   ],
   "source": [
    "\n",
    "print(\"🧾 Các cột hiện có trong df_all:\")\n",
    "print(df_all.columns.tolist())\n"
   ]
  },
  {
   "cell_type": "code",
   "execution_count": 7,
   "id": "b6a05137",
   "metadata": {},
   "outputs": [
    {
     "name": "stdout",
     "output_type": "stream",
     "text": [
      "<class 'pandas.core.frame.DataFrame'>\n",
      "RangeIndex: 2255788 entries, 0 to 2255787\n",
      "Data columns (total 16 columns):\n",
      " #   Column                  Dtype  \n",
      "---  ------                  -----  \n",
      " 0   date                    object \n",
      " 1   route                   object \n",
      " 2   flight_id               object \n",
      " 3   origin                  object \n",
      " 4   destination             object \n",
      " 5   fare_class              object \n",
      " 6   fare_code               object \n",
      " 7   price_vnd               float64\n",
      " 8   taxes                   float64\n",
      " 9   booking_class           object \n",
      " 10  cabin                   object \n",
      " 11  quota                   float64\n",
      " 12  service_code            object \n",
      " 13  fare_conditions         object \n",
      " 14  operating_airline_code  object \n",
      " 15  operating_airline_name  object \n",
      "dtypes: float64(3), object(13)\n",
      "memory usage: 275.4+ MB\n"
     ]
    }
   ],
   "source": [
    "df_all.info()"
   ]
  },
  {
   "cell_type": "code",
   "execution_count": 8,
   "id": "8ad424aa",
   "metadata": {},
   "outputs": [],
   "source": [
    "# Ép kiểu cột date về datetime\n",
    "df_all['date'] = pd.to_datetime(df_all['date'], errors='coerce')"
   ]
  },
  {
   "cell_type": "code",
   "execution_count": 9,
   "id": "1da73b77",
   "metadata": {},
   "outputs": [],
   "source": [
    "# Tạo cột giờ\n",
    "df_all['hour'] = df_all['date'].dt.hour\n",
    "\n",
    "# Tạo cột \"khoảng thời gian bay\"\n",
    "def get_time_slot(hour):\n",
    "    if 5 <= hour < 12:\n",
    "        return 'Sáng'\n",
    "    elif 12 <= hour < 17:\n",
    "        return 'Chiều'\n",
    "    elif 17 <= hour < 21:\n",
    "        return 'Tối'\n",
    "    else:\n",
    "        return 'Đêm'\n",
    "\n",
    "df_all['time_slot'] = df_all['hour'].apply(get_time_slot)"
   ]
  },
  {
   "cell_type": "code",
   "execution_count": 10,
   "id": "7841e51a",
   "metadata": {},
   "outputs": [
    {
     "name": "stdout",
     "output_type": "stream",
     "text": [
      "Tổng số chuyến bay: 2255788\n",
      "\n",
      "Số chuyến theo hãng:\n",
      "operating_airline_name\n",
      "VietNam Airlines    1164507\n",
      "Vietjet Air         1067108\n",
      "BAMBOO AIRWAYS        23790\n",
      "Name: count, dtype: int64\n",
      "\n",
      "Thống kê giá vé (price_vnd):\n",
      "count    2.255405e+06\n",
      "mean     4.644202e+06\n",
      "std      3.051185e+06\n",
      "min      4.107838e+05\n",
      "25%      2.448000e+06\n",
      "50%      3.849000e+06\n",
      "75%      5.996006e+06\n",
      "max      1.592100e+07\n",
      "Name: price_vnd, dtype: float64\n"
     ]
    }
   ],
   "source": [
    "# Số chuyến bay tổng cộng\n",
    "print(\"Tổng số chuyến bay:\", len(df_all))\n",
    "\n",
    "# Số chuyến theo hãng\n",
    "print(\"\\nSố chuyến theo hãng:\")\n",
    "print(df_all['operating_airline_name'].value_counts())\n",
    "\n",
    "# Thống kê giá vé\n",
    "print(\"\\nThống kê giá vé (price_vnd):\")\n",
    "print(df_all['price_vnd'].describe())"
   ]
  },
  {
   "cell_type": "code",
   "execution_count": 11,
   "id": "bc293aa4",
   "metadata": {},
   "outputs": [],
   "source": [
    "# Đảm bảo date đã đúng kiểu datetime\n",
    "df_all['date'] = pd.to_datetime(df_all['date'], errors='coerce')\n",
    "\n",
    "# Thêm các cột thời gian\n",
    "df_all['month'] = df_all['date'].dt.month\n",
    "df_all['weekday'] = df_all['date'].dt.day_name()\n",
    "df_all['week'] = df_all['date'].dt.isocalendar().week"
   ]
  },
  {
   "cell_type": "code",
   "execution_count": 12,
   "id": "64045b1d",
   "metadata": {},
   "outputs": [
    {
     "name": "stdout",
     "output_type": "stream",
     "text": [
      "\n",
      "Giá vé trung bình theo tháng:\n",
      "month\n",
      "1.0     3344166.0\n",
      "2.0     3995363.0\n",
      "3.0     3406687.0\n",
      "4.0     3349370.0\n",
      "5.0     3333594.0\n",
      "6.0     2652879.0\n",
      "7.0     2562875.0\n",
      "8.0     2564037.0\n",
      "9.0     2571280.0\n",
      "10.0    2608576.0\n",
      "11.0    2665188.0\n",
      "12.0    2673173.0\n",
      "Name: price_vnd, dtype: float64\n"
     ]
    }
   ],
   "source": [
    "print(\"\\nGiá vé trung bình theo tháng:\")\n",
    "print(df_all.groupby('month')['price_vnd'].mean().round(0))"
   ]
  },
  {
   "cell_type": "code",
   "execution_count": 13,
   "id": "4c122a27",
   "metadata": {},
   "outputs": [
    {
     "name": "stdout",
     "output_type": "stream",
     "text": [
      "\n",
      "Giá vé trung bình theo ngày trong tuần:\n",
      "weekday\n",
      "Friday       2833743.0\n",
      "Monday       2790339.0\n",
      "Saturday     2788286.0\n",
      "Sunday       2881056.0\n",
      "Thursday     2775568.0\n",
      "Tuesday      2736647.0\n",
      "Wednesday    2728504.0\n",
      "Name: price_vnd, dtype: float64\n"
     ]
    }
   ],
   "source": [
    "print(\"\\nGiá vé trung bình theo ngày trong tuần:\")\n",
    "print(df_all.groupby('weekday')['price_vnd'].mean().round(0))\n"
   ]
  },
  {
   "cell_type": "code",
   "execution_count": 14,
   "id": "7817bb5f",
   "metadata": {},
   "outputs": [
    {
     "name": "stdout",
     "output_type": "stream",
     "text": [
      "\n",
      "Giá vé trung bình theo tuần:\n",
      "week\n",
      "1     2943236.0\n",
      "2     3299986.0\n",
      "3     3376702.0\n",
      "4     3371631.0\n",
      "5     3617389.0\n",
      "6     3925365.0\n",
      "7     3920435.0\n",
      "8     4287099.0\n",
      "9     3997641.0\n",
      "10    3448884.0\n",
      "11    3369223.0\n",
      "12    3372469.0\n",
      "13    3368340.0\n",
      "14    3347177.0\n",
      "15    3346089.0\n",
      "16    3346985.0\n",
      "17    3351993.0\n",
      "18    3355261.0\n",
      "19    3348176.0\n",
      "20    3348420.0\n",
      "21    3332054.0\n",
      "22    2920749.0\n",
      "23    2633707.0\n",
      "24    2690329.0\n",
      "25    2671333.0\n",
      "26    2610581.0\n",
      "27    2574673.0\n",
      "28    2576106.0\n",
      "29    2568302.0\n",
      "30    2555714.0\n",
      "31    2557170.0\n",
      "32    2584649.0\n",
      "33    2524901.0\n",
      "34    2515611.0\n",
      "35    2624998.0\n",
      "36    2663373.0\n",
      "37    2546230.0\n",
      "38    2556816.0\n",
      "39    2543321.0\n",
      "40    2588707.0\n",
      "41    2589535.0\n",
      "42    2602873.0\n",
      "43    2614807.0\n",
      "44    2654876.0\n",
      "45    2658449.0\n",
      "46    2660212.0\n",
      "47    2668809.0\n",
      "48    2656397.0\n",
      "49    2671626.0\n",
      "50    2661428.0\n",
      "51    2673795.0\n",
      "52    2672254.0\n",
      "Name: price_vnd, dtype: float64\n"
     ]
    }
   ],
   "source": [
    "print(\"\\nGiá vé trung bình theo tuần:\")\n",
    "print(df_all.groupby('week')['price_vnd'].mean().round(0))\n"
   ]
  }
 ],
 "metadata": {
  "kernelspec": {
   "display_name": "Python 3",
   "language": "python",
   "name": "python3"
  },
  "language_info": {
   "codemirror_mode": {
    "name": "ipython",
    "version": 3
   },
   "file_extension": ".py",
   "mimetype": "text/x-python",
   "name": "python",
   "nbconvert_exporter": "python",
   "pygments_lexer": "ipython3",
   "version": "3.11.9"
  }
 },
 "nbformat": 4,
 "nbformat_minor": 5
}
