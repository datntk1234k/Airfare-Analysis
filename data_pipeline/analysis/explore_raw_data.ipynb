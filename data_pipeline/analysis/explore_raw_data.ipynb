{
 "cells": [
  {
   "cell_type": "markdown",
   "id": "9617d12d",
   "metadata": {},
   "source": [
    "#### Gộp Vietnam Airlines và Vietjet Air và Gộp 3 hãng thành 1 \n"
   ]
  },
  {
   "cell_type": "code",
   "execution_count": 16,
   "id": "42abb91e",
   "metadata": {},
   "outputs": [
    {
     "name": "stdout",
     "output_type": "stream",
     "text": [
      "Tổng số dòng sau khi gộp: 2255788\n",
      "                     source.name        date    route                        flight_id origin destination fare_class fare_code     price_vnd          taxes departure_time arrival_time booking_class  \\\n",
      "0  DLI-DAD_01-06-25_31-12-25.csv  2025-06-13  DLI_DAD  SEG-VJ568-DLIDAD-2025-1-01-1450    DLI         DAD        EL1   QPXVNWS  1.860040e+06  572426.357322            NaN          NaN             Z   \n",
      "1  DLI-DAD_01-06-25_31-12-25.csv  2025-06-13  DLI_DAD  SEG-VJ886-DLIDAD-2025-1-01-1450    DLI         DAD        EC1     ZVNWP  1.929579e+06  577492.077298            NaN          NaN             Z   \n",
      "2  DLI-DAD_01-06-25_31-12-25.csv  2025-06-13  DLI_DAD  SEG-VJ430-DLIDAD-2025-1-01-1450    DLI         DAD        EF1     ZVNWP  2.148786e+06  594070.797220            NaN          NaN             Z   \n",
      "3  DLI-DAD_01-06-25_31-12-25.csv  2025-06-13  DLI_DAD  SEG-VJ180-DLIDAD-2025-1-01-1450    DLI         DAD        DC1     ZVNWP  2.222009e+06  599136.517197            NaN          NaN             Z   \n",
      "4  DLI-DAD_01-06-25_31-12-25.csv  2025-06-13  DLI_DAD  SEG-VJ376-DLIDAD-2025-1-01-1450    DLI         DAD        DF1     ZVNWP  2.470690e+06  617557.317110            NaN          NaN             Z   \n",
      "5  DLI-DAD_01-06-25_31-12-25.csv  2025-06-13  DLI_DAD  SEG-VJ256-DLIDAD-2025-1-01-1450    DLI         DAD        BC1     IVNWP  3.104365e+06  664530.356891            NaN          NaN             I   \n",
      "6  DLI-DAD_01-06-25_31-12-25.csv  2025-06-13  DLI_DAD  SEG-VJ465-DLIDAD-2025-1-01-1450    DLI         DAD        BF1     CVNWP  3.800672e+06  716108.596649            NaN          NaN             C   \n",
      "7  DLI-DAD_01-06-25_31-12-25.csv  2025-06-13  DLI_DAD  SEG-VJ966-DLIDAD-2025-1-01-1450    DLI         DAD        EL1     CVNWP  2.467466e+06  617557.317110            NaN          NaN             T   \n",
      "8  DLI-DAD_01-06-25_31-12-25.csv  2025-06-13  DLI_DAD  SEG-VJ874-DLIDAD-2025-1-01-1450    DLI         DAD        EC1     CVNWP  2.706476e+06  635057.077029            NaN          NaN             L   \n",
      "9  DLI-DAD_01-06-25_31-12-25.csv  2025-06-13  DLI_DAD  SEG-VJ006-DLIDAD-2025-1-01-1450    DLI         DAD        EF1     CVNWP  2.822527e+06  643806.956988            NaN          NaN             M   \n",
      "\n",
      "        cabin  quota status service_code    fare_conditions operating_airline_code operating_airline_name  \n",
      "0  ecoPremium    2.0     HK  FBA4-C0FMC2  PEN19,PEN20,PEN21                     VJ            Vietjet Air  \n",
      "1  ecoPremium    2.0     HK  FBA4-C0FMC2  PEN16,PEN17,PEN18                     VJ            Vietjet Air  \n",
      "2  ecoPremium    2.0     HK  FBA4-C0FMC2  PEN22,PEN23,PEN24                     VJ            Vietjet Air  \n",
      "3  ecoPremium    2.0     HK  FBA4-C0FMC2  PEN28,PEN29,PEN30                     VJ            Vietjet Air  \n",
      "4  ecoPremium    2.0     HK  FBA4-C0FMC2  PEN22,PEN23,PEN24                     VJ            Vietjet Air  \n",
      "5    business    8.0     HK  FBA4-C0FMC2  PEN43,PEN44,PEN45                     VJ            Vietjet Air  \n",
      "6    business    9.0     HK  FBA4-C0FMC2  PEN52,PEN53,PEN54                     VJ            Vietjet Air  \n",
      "7         eco    9.0     HK  FBA3-C0GOC1  PEN31,PEN32,PEN33                     VJ            Vietjet Air  \n",
      "8         eco    9.0     HK  FBA3-C0GOC1  PEN13,PEN14,PEN15                     VJ            Vietjet Air  \n",
      "9         eco    9.0     HK  FBA3-C0GOC1  PEN34,PEN35,PEN36                     VJ            Vietjet Air  \n"
     ]
    }
   ],
   "source": [
    "import pandas as pd\n",
    "import os\n",
    "\n",
    "# Cài đặt hiển thị đẹp\n",
    "pd.set_option('display.max_columns', None)\n",
    "pd.set_option('display.width', 200)\n",
    "pd.set_option('display.max_colwidth', None)\n",
    "\n",
    "# Đường dẫn thư mục chứa file\n",
    "RAW_PATH = \"/Users/nthanhdat/Documents/Fpt_Polytechnic/Graduation_Project/data_pipeline/raw_data\"\n",
    "\n",
    "def load_and_prepare(files, drop_airline=False, drop_is_duplicate=False):\n",
    "    dfs = []\n",
    "    for file in files:\n",
    "        df = pd.read_csv(os.path.join(RAW_PATH, file))\n",
    "        df.columns = df.columns.str.strip().str.lower().str.replace(\" \", \"_\")\n",
    "        \n",
    "        if drop_airline and \"airline\" in df.columns:\n",
    "            df.drop(columns=\"airline\", inplace=True)\n",
    "        if drop_is_duplicate and \"is_duplicate\" in df.columns:\n",
    "            df.drop(columns=\"is_duplicate\", inplace=True)\n",
    "        \n",
    "        dfs.append(df)\n",
    "    return pd.concat(dfs, ignore_index=True)\n",
    "\n",
    "# 1. Vietjet: xoá airline & is_duplicate\n",
    "df_vietjet = load_and_prepare([\"vietjet_1.csv\", \"vietjet_2.csv\"],\n",
    "                              drop_airline=True, drop_is_duplicate=True)\n",
    "\n",
    "# 2. Vietnam Airlines: xoá airline\n",
    "df_vnairlines = load_and_prepare([\"VNairlines_1_1.csv\", \"VNairlines_2_2.csv\"],\n",
    "                                 drop_airline=True)\n",
    "\n",
    "# 3. Bamboo: giữ nguyên hoàn toàn\n",
    "df_bamboo = load_and_prepare([\"BambooAirway.csv\"])\n",
    "\n",
    "# Gộp tất cả\n",
    "df_all = pd.concat([df_vietjet, df_vnairlines, df_bamboo], ignore_index=True)\n",
    "\n",
    "# Xem kết quả\n",
    "print(\"Tổng số dòng sau khi gộp:\", len(df_all))\n",
    "print(df_all.head(10))\n"
   ]
  },
  {
   "cell_type": "code",
   "execution_count": 17,
   "id": "32c8c991",
   "metadata": {},
   "outputs": [
    {
     "name": "stdout",
     "output_type": "stream",
     "text": [
      "Số lượng hãng bay duy nhất trong 'operating_airline_name': 3\n",
      "🛫 Danh sách các hãng bay:\n",
      "['Vietjet Air' 'VietNam Airlines' 'BAMBOO AIRWAYS']\n"
     ]
    }
   ],
   "source": [
    "# Kiểm tra có bao nhiêu hãng bay \n",
    "unique_airlines = df_all['operating_airline_name'].dropna().unique()\n",
    "print(\"Số lượng hãng bay duy nhất trong 'operating_airline_name':\", len(unique_airlines))\n",
    "print(\"🛫 Danh sách các hãng bay:\")\n",
    "print(unique_airlines)\n"
   ]
  },
  {
   "cell_type": "markdown",
   "id": "fef2be6a",
   "metadata": {},
   "source": [
    "### Lọc giữ lại các cột cần thiết "
   ]
  },
  {
   "cell_type": "code",
   "execution_count": 18,
   "id": "05db1619",
   "metadata": {},
   "outputs": [
    {
     "name": "stdout",
     "output_type": "stream",
     "text": [
      "Đã xóa các cột: source.name, departure_time, arrival_time, status khỏi df_all.\n"
     ]
    }
   ],
   "source": [
    "df_all.drop(columns=['source.name', 'departure_time', 'arrival_time', 'status'], inplace=True)\n",
    "print(\"Đã xóa các cột: source.name, departure_time, arrival_time, status khỏi df_all.\")\n"
   ]
  },
  {
   "cell_type": "code",
   "execution_count": 19,
   "id": "575b8092",
   "metadata": {},
   "outputs": [
    {
     "name": "stdout",
     "output_type": "stream",
     "text": [
      "🧾 Các cột hiện có trong df_all:\n",
      "['date', 'route', 'flight_id', 'origin', 'destination', 'fare_class', 'fare_code', 'price_vnd', 'taxes', 'booking_class', 'cabin', 'quota', 'service_code', 'fare_conditions', 'operating_airline_code', 'operating_airline_name']\n"
     ]
    }
   ],
   "source": [
    "\n",
    "print(\"🧾 Các cột hiện có trong df_all:\")\n",
    "print(df_all.columns.tolist())\n"
   ]
  },
  {
   "cell_type": "code",
   "execution_count": null,
   "id": "b6a05137",
   "metadata": {},
   "outputs": [],
   "source": []
  },
  {
   "cell_type": "code",
   "execution_count": null,
   "id": "8ad424aa",
   "metadata": {},
   "outputs": [],
   "source": []
  },
  {
   "cell_type": "code",
   "execution_count": null,
   "id": "1da73b77",
   "metadata": {},
   "outputs": [],
   "source": []
  }
 ],
 "metadata": {
  "kernelspec": {
   "display_name": "Python 3",
   "language": "python",
   "name": "python3"
  },
  "language_info": {
   "codemirror_mode": {
    "name": "ipython",
    "version": 3
   },
   "file_extension": ".py",
   "mimetype": "text/x-python",
   "name": "python",
   "nbconvert_exporter": "python",
   "pygments_lexer": "ipython3",
   "version": "3.9.6"
  }
 },
 "nbformat": 4,
 "nbformat_minor": 5
}
