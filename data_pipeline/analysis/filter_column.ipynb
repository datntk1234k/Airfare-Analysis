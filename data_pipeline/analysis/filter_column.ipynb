{
 "cells": [
  {
   "cell_type": "markdown",
   "id": "95fa3bf3",
   "metadata": {},
   "source": [
    "#### File này kiểm tra lý do tại sao nên bỏ các cột "
   ]
  },
  {
   "cell_type": "code",
   "execution_count": 2,
   "id": "e12e27b6",
   "metadata": {},
   "outputs": [
    {
     "name": "stdout",
     "output_type": "stream",
     "text": [
      "Tổng số dòng sau khi gộp: 2255788\n",
      "                     source.name        date    route                        flight_id origin destination fare_class fare_code     price_vnd          taxes departure_time arrival_time booking_class  \\\n",
      "0  DLI-DAD_01-06-25_31-12-25.csv  2025-06-13  DLI_DAD  SEG-VJ568-DLIDAD-2025-1-01-1450    DLI         DAD        EL1   QPXVNWS  1.860040e+06  572426.357322            NaN          NaN             Z   \n",
      "1  DLI-DAD_01-06-25_31-12-25.csv  2025-06-13  DLI_DAD  SEG-VJ886-DLIDAD-2025-1-01-1450    DLI         DAD        EC1     ZVNWP  1.929579e+06  577492.077298            NaN          NaN             Z   \n",
      "2  DLI-DAD_01-06-25_31-12-25.csv  2025-06-13  DLI_DAD  SEG-VJ430-DLIDAD-2025-1-01-1450    DLI         DAD        EF1     ZVNWP  2.148786e+06  594070.797220            NaN          NaN             Z   \n",
      "3  DLI-DAD_01-06-25_31-12-25.csv  2025-06-13  DLI_DAD  SEG-VJ180-DLIDAD-2025-1-01-1450    DLI         DAD        DC1     ZVNWP  2.222009e+06  599136.517197            NaN          NaN             Z   \n",
      "4  DLI-DAD_01-06-25_31-12-25.csv  2025-06-13  DLI_DAD  SEG-VJ376-DLIDAD-2025-1-01-1450    DLI         DAD        DF1     ZVNWP  2.470690e+06  617557.317110            NaN          NaN             Z   \n",
      "5  DLI-DAD_01-06-25_31-12-25.csv  2025-06-13  DLI_DAD  SEG-VJ256-DLIDAD-2025-1-01-1450    DLI         DAD        BC1     IVNWP  3.104365e+06  664530.356891            NaN          NaN             I   \n",
      "6  DLI-DAD_01-06-25_31-12-25.csv  2025-06-13  DLI_DAD  SEG-VJ465-DLIDAD-2025-1-01-1450    DLI         DAD        BF1     CVNWP  3.800672e+06  716108.596649            NaN          NaN             C   \n",
      "7  DLI-DAD_01-06-25_31-12-25.csv  2025-06-13  DLI_DAD  SEG-VJ966-DLIDAD-2025-1-01-1450    DLI         DAD        EL1     CVNWP  2.467466e+06  617557.317110            NaN          NaN             T   \n",
      "8  DLI-DAD_01-06-25_31-12-25.csv  2025-06-13  DLI_DAD  SEG-VJ874-DLIDAD-2025-1-01-1450    DLI         DAD        EC1     CVNWP  2.706476e+06  635057.077029            NaN          NaN             L   \n",
      "9  DLI-DAD_01-06-25_31-12-25.csv  2025-06-13  DLI_DAD  SEG-VJ006-DLIDAD-2025-1-01-1450    DLI         DAD        EF1     CVNWP  2.822527e+06  643806.956988            NaN          NaN             M   \n",
      "\n",
      "        cabin  quota status service_code    fare_conditions operating_airline_code operating_airline_name  \n",
      "0  ecoPremium    2.0     HK  FBA4-C0FMC2  PEN19,PEN20,PEN21                     VJ            Vietjet Air  \n",
      "1  ecoPremium    2.0     HK  FBA4-C0FMC2  PEN16,PEN17,PEN18                     VJ            Vietjet Air  \n",
      "2  ecoPremium    2.0     HK  FBA4-C0FMC2  PEN22,PEN23,PEN24                     VJ            Vietjet Air  \n",
      "3  ecoPremium    2.0     HK  FBA4-C0FMC2  PEN28,PEN29,PEN30                     VJ            Vietjet Air  \n",
      "4  ecoPremium    2.0     HK  FBA4-C0FMC2  PEN22,PEN23,PEN24                     VJ            Vietjet Air  \n",
      "5    business    8.0     HK  FBA4-C0FMC2  PEN43,PEN44,PEN45                     VJ            Vietjet Air  \n",
      "6    business    9.0     HK  FBA4-C0FMC2  PEN52,PEN53,PEN54                     VJ            Vietjet Air  \n",
      "7         eco    9.0     HK  FBA3-C0GOC1  PEN31,PEN32,PEN33                     VJ            Vietjet Air  \n",
      "8         eco    9.0     HK  FBA3-C0GOC1  PEN13,PEN14,PEN15                     VJ            Vietjet Air  \n",
      "9         eco    9.0     HK  FBA3-C0GOC1  PEN34,PEN35,PEN36                     VJ            Vietjet Air  \n"
     ]
    }
   ],
   "source": [
    "import pandas as pd\n",
    "import os\n",
    "\n",
    "# Cài đặt hiển thị đẹp\n",
    "pd.set_option('display.max_columns', None)\n",
    "pd.set_option('display.width', 200)\n",
    "pd.set_option('display.max_colwidth', None)\n",
    "\n",
    "# Đường dẫn thư mục chứa file\n",
    "RAW_PATH = \"/Users/nthanhdat/Documents/Fpt_Polytechnic/Graduation_Project/data_pipeline/raw_data\"\n",
    "\n",
    "def load_and_prepare(files, drop_airline=False, drop_is_duplicate=False):\n",
    "    dfs = []\n",
    "    for file in files:\n",
    "        df = pd.read_csv(os.path.join(RAW_PATH, file))\n",
    "        df.columns = df.columns.str.strip().str.lower().str.replace(\" \", \"_\")\n",
    "        \n",
    "        if drop_airline and \"airline\" in df.columns:\n",
    "            df.drop(columns=\"airline\", inplace=True)\n",
    "        if drop_is_duplicate and \"is_duplicate\" in df.columns:\n",
    "            df.drop(columns=\"is_duplicate\", inplace=True)\n",
    "        \n",
    "        dfs.append(df)\n",
    "    return pd.concat(dfs, ignore_index=True)\n",
    "\n",
    "# 1. Vietjet: xoá airline & is_duplicate\n",
    "df_vietjet = load_and_prepare([\"vietjet_1.csv\", \"vietjet_2.csv\"],\n",
    "                              drop_airline=True, drop_is_duplicate=True)\n",
    "\n",
    "# 2. Vietnam Airlines: xoá airline\n",
    "df_vnairlines = load_and_prepare([\"VNairlines_1_1.csv\", \"VNairlines_2_2.csv\"],\n",
    "                                 drop_airline=True)\n",
    "\n",
    "# 3. Bamboo: giữ nguyên hoàn toàn\n",
    "df_bamboo = load_and_prepare([\"BambooAirway.csv\"])\n",
    "\n",
    "# Gộp tất cả\n",
    "df_all = pd.concat([df_vietjet, df_vnairlines, df_bamboo], ignore_index=True)\n",
    "\n",
    "# Xem kết quả\n",
    "print(\"Tổng số dòng sau khi gộp:\", len(df_all))\n",
    "print(df_all.head(10))\n"
   ]
  },
  {
   "cell_type": "code",
   "execution_count": 5,
   "id": "d53c4ab6",
   "metadata": {},
   "outputs": [
    {
     "name": "stdout",
     "output_type": "stream",
     "text": [
      "flight_id\n",
      "SEG-VN1341-CXRSGN-2025-06-14-0840    198\n",
      "SEG-VN1341-CXRSGN-2025-06-28-0840    196\n",
      "SEG-VN1341-CXRSGN-2025-06-26-0840    189\n",
      "SEG-VN1341-CXRSGN-2025-06-07-0840    180\n",
      "SEG-VN1341-CXRSGN-2025-09-22-0840    175\n",
      "SEG-VN1341-CXRSGN-2025-06-12-0840    175\n",
      "SEG-VN1341-CXRSGN-2025-08-07-0840    175\n",
      "SEG-VN1341-CXRSGN-2025-10-13-0840    175\n",
      "SEG-VN1341-CXRSGN-2025-08-27-0840    175\n",
      "SEG-VN1341-CXRSGN-2025-10-08-0840    168\n",
      "Name: count, dtype: int64\n",
      "✅ Số bản ghi: 198\n",
      "✅ Số mức giá khác nhau: 39\n",
      "🪙 Các mức giá:\n",
      "[ 3523000.  4228000.  4501000.  5365000.  7065000.  8253000.  3674000.\n",
      "  7497000.  3996000.  4280000.  5473000.  5797000.  7929000.  8685000.\n",
      "  3631000.  4225000.  5362000.  5851000.  6715000. 11925000. 12681000.\n",
      "  6175000.  7106000. 11493000.  3836000.  9009000.  4020000.  3569000.\n",
      "  3681000.  3907000.  4555000.  6741000.  6417000.  1616000.  1900000.\n",
      "  2013000.  2337000.  3268000.  4024000.]\n"
     ]
    }
   ],
   "source": [
    "# Status bỏ vì chứa soure file thôi không có thông tin gì khác\n",
    "# Cột flight_id giữ\n",
    "flight_id_counts = df_all['flight_id'].value_counts()\n",
    "print(flight_id_counts.head(10))  # Xem top 10 chuyến bị trùng\n",
    "\n",
    "df_dupes = df_all[df_all['flight_id'] == \"SEG-VN1341-CXRSGN-2025-06-14-0840\"]\n",
    "\n",
    "print(\"✅ Số bản ghi:\", len(df_dupes))\n",
    "print(\"✅ Số mức giá khác nhau:\", df_dupes['price_vnd'].nunique())\n",
    "print(\"🪙 Các mức giá:\")\n",
    "print(df_dupes['price_vnd'].unique())\n",
    "\n",
    "\n",
    "\n"
   ]
  },
  {
   "cell_type": "code",
   "execution_count": 8,
   "id": "50a7e0f5",
   "metadata": {},
   "outputs": [
    {
     "name": "stdout",
     "output_type": "stream",
     "text": [
      "📌 Tổng số dòng: 2255788\n",
      "🛫 'departure_time' bị thiếu: 2231998 dòng (98.95%)\n",
      "🛬 'arrival_time' bị thiếu:   2231998 dòng (98.95%)\n",
      "✅ Có dữ liệu departure_time không?: True\n",
      "✅ Có dữ liệu arrival_time không?: True\n"
     ]
    }
   ],
   "source": [
    "#### Cột departure_time arrival_time bỏ\n",
    "# Kiểm tra tổng số dòng\n",
    "total_rows = len(df_all)\n",
    "\n",
    "# Đếm số lượng NaN trong từng cột\n",
    "departure_missing = df_all['departure_time'].isna().sum()\n",
    "arrival_missing = df_all['arrival_time'].isna().sum()\n",
    "\n",
    "# In kết quả\n",
    "print(f\"📌 Tổng số dòng: {total_rows}\")\n",
    "print(f\"🛫 'departure_time' bị thiếu: {departure_missing} dòng ({departure_missing / total_rows:.2%})\")\n",
    "print(f\"🛬 'arrival_time' bị thiếu:   {arrival_missing} dòng ({arrival_missing / total_rows:.2%})\")\n",
    "\n",
    "has_departure_data = df_all['departure_time'].notna().any()\n",
    "has_arrival_data = df_all['arrival_time'].notna().any()\n",
    "\n",
    "print(\"✅ Có dữ liệu departure_time không?:\", has_departure_data)\n",
    "print(\"✅ Có dữ liệu arrival_time không?:\", has_arrival_data)\n",
    "\n",
    " "
   ]
  },
  {
   "cell_type": "code",
   "execution_count": null,
   "id": "8a39cbe9",
   "metadata": {},
   "outputs": [
    {
     "name": "stdout",
     "output_type": "stream",
     "text": [
      "\n",
      "🔍 Cột: quota\n",
      "• Số giá trị khác nhau (unique): 9\n",
      "• Số dòng bị thiếu (NaN): 383 / 2255788 (0.02%)\n",
      "• Một vài giá trị đầu tiên: [2. 8. 9. 4. 5.]\n",
      "👉 Gợi ý: ✅ CÂN NHẮC GIỮ (có thông tin phân biệt)\n",
      "\n",
      "🔍 Cột: status\n",
      "• Số giá trị khác nhau (unique): 1\n",
      "• Số dòng bị thiếu (NaN): 383 / 2255788 (0.02%)\n",
      "• Một vài giá trị đầu tiên: ['HK']\n",
      "👉 Gợi ý: ❌ Có thể XÓA (chỉ có 1 giá trị)\n",
      "\n",
      "🔍 Cột: service_code\n",
      "• Số giá trị khác nhau (unique): 21\n",
      "• Số dòng bị thiếu (NaN): 24173 / 2255788 (1.07%)\n",
      "• Một vài giá trị đầu tiên: ['FBA4-C0FMC2' 'FBA3-C0GOC1' 'FBA5-C0FMC2' 'FBA1-C0GOC1' 'FBA2-C0FMC2']\n",
      "👉 Gợi ý: ✅ CÂN NHẮC GIỮ (có thông tin phân biệt)\n",
      "\n",
      "🔍 Cột: fare_conditions\n",
      "• Số giá trị khác nhau (unique): 22\n",
      "• Số dòng bị thiếu (NaN): 383 / 2255788 (0.02%)\n",
      "• Một vài giá trị đầu tiên: ['PEN19,PEN20,PEN21' 'PEN16,PEN17,PEN18' 'PEN22,PEN23,PEN24'\n",
      " 'PEN28,PEN29,PEN30' 'PEN43,PEN44,PEN45']\n",
      "👉 Gợi ý: ✅ CÂN NHẮC GIỮ (có thông tin phân biệt)\n",
      "\n",
      "🔍 Cột: operating_airline_code\n",
      "• Số giá trị khác nhau (unique): 3\n",
      "• Số dòng bị thiếu (NaN): 383 / 2255788 (0.02%)\n",
      "• Một vài giá trị đầu tiên: ['VJ' 'VN' 'QH']\n",
      "👉 Gợi ý: ✅ CÂN NHẮC GIỮ (có thông tin phân biệt)\n"
     ]
    }
   ],
   "source": [
    "# Đoạn code kiểm tra 5 cột: quota, status, service_code, fare_conditions, operating_airline_code có nên xóa không ?\n",
    "# Kết quả status là xóa \n",
    "columns_to_check = ['quota', 'status', 'service_code', 'fare_conditions', 'operating_airline_code']\n",
    "\n",
    "total_rows = len(df_all)\n",
    "\n",
    "for col in columns_to_check:\n",
    "    print(f\"\\n🔍 Cột: {col}\")\n",
    "    if col not in df_all.columns:\n",
    "        print(\"❗ Cột không tồn tại trong dữ liệu.\")\n",
    "        continue\n",
    "\n",
    "    unique_vals = df_all[col].dropna().unique()\n",
    "    unique_count = len(unique_vals)\n",
    "    null_count = df_all[col].isna().sum()\n",
    "    null_percent = null_count / total_rows * 100\n",
    "\n",
    "    print(f\"• Số giá trị khác nhau (unique): {unique_count}\")\n",
    "    print(f\"• Số dòng bị thiếu (NaN): {null_count} / {total_rows} ({null_percent:.2f}%)\")\n",
    "    print(f\"• Một vài giá trị đầu tiên: {unique_vals[:5]}\")\n",
    "\n",
    "    # Gợi ý giữ/xoá đơn giản\n",
    "    if unique_count == 1 and null_percent < 10:\n",
    "        print(\"👉 Gợi ý: ❌ Có thể XÓA (chỉ có 1 giá trị)\")\n",
    "    elif null_percent > 95:\n",
    "        print(\"👉 Gợi ý: ❌ Có thể XÓA (quá nhiều dữ liệu thiếu)\")\n",
    "    else:\n",
    "        print(\"👉 Gợi ý: ✅ CÂN NHẮC GIỮ (có thông tin phân biệt)\")\n"
   ]
  }
 ],
 "metadata": {
  "kernelspec": {
   "display_name": "Python 3",
   "language": "python",
   "name": "python3"
  },
  "language_info": {
   "codemirror_mode": {
    "name": "ipython",
    "version": 3
   },
   "file_extension": ".py",
   "mimetype": "text/x-python",
   "name": "python",
   "nbconvert_exporter": "python",
   "pygments_lexer": "ipython3",
   "version": "3.9.6"
  }
 },
 "nbformat": 4,
 "nbformat_minor": 5
}
